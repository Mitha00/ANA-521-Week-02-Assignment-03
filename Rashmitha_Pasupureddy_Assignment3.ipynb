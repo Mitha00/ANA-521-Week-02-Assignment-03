{
 "cells": [
  {
   "cell_type": "markdown",
   "id": "edb3dba0-f08a-4a39-b917-4cf4551d73a0",
   "metadata": {},
   "source": [
    "## ANA-522 \n",
    "## Mod01 Lab: Python Part II\n",
    "## Due: Sunday at midnight\n",
    "\n",
    "### Submit your work as a *.ipynb* notebook file on blackboard.\n",
    "### Please name your *.ipynb* file using the following format: firstname_week2_assignment3.ipynb"
   ]
  },
  {
   "cell_type": "markdown",
   "id": "777b19cc",
   "metadata": {},
   "source": [
    "## Tuple Exercise"
   ]
  },
  {
   "cell_type": "markdown",
   "id": "da65db37",
   "metadata": {},
   "source": [
    "A tuple is one of the four inbuilt data types used to store collections in Python. Unlike other data types, the elements in tuples are ordered and immutable."
   ]
  },
  {
   "cell_type": "code",
   "execution_count": null,
   "id": "afb63b5a",
   "metadata": {},
   "outputs": [],
   "source": [
    "# Given a tuple:\n",
    "tuple1 = (10, 20, 30, 40, 50, 60, 70, 80, 90, 100)"
   ]
  },
  {
   "cell_type": "code",
   "execution_count": 6,
   "id": "3c978e21",
   "metadata": {},
   "outputs": [
    {
     "name": "stdout",
     "output_type": "stream",
     "text": [
      "(100, 90, 80, 70, 60, 50, 40, 30, 20, 10)\n"
     ]
    }
   ],
   "source": [
    "Tuple = (10, 20, 30, 40, 50, 60, 70, 80, 90, 100)\n",
    "RevTuple = reversed(Tuple)\n",
    "RevTuple = tuple(RevTuple)\n",
    "print (RevTuple)"
   ]
  },
  {
   "cell_type": "code",
   "execution_count": 7,
   "id": "38b97537",
   "metadata": {},
   "outputs": [
    {
     "data": {
      "text/plain": [
       "90"
      ]
     },
     "execution_count": 7,
     "metadata": {},
     "output_type": "execute_result"
    }
   ],
   "source": [
    "# Q2, print second last element\n",
    "Tuple = (10, 20, 30, 40, 50, 60, 70, 80, 90, 100)\n",
    "\n",
    "Tuple[-2]"
   ]
  },
  {
   "cell_type": "code",
   "execution_count": 15,
   "id": "f234c811",
   "metadata": {},
   "outputs": [
    {
     "name": "stdout",
     "output_type": "stream",
     "text": [
      "Iteration with Positive Indexing >>\n",
      "10, 20, 30, 40, 50, 60, 70, 80, 90, 100, \n",
      "\n",
      "Iteration with Negative Indexing >>\n",
      "10, 20, 30, 40, 50, 60, 70, 80, 90, 100, "
     ]
    }
   ],
   "source": [
    "# Q3, iterating this tuple\n",
    "Tuple = (10, 20, 30, 40, 50, 60, 70, 80, 90, 100)\n",
    "\n",
    "## Positive Indexing \n",
    "print(\"Iteration with Positive Indexing >>\")\n",
    "for i in range(0, 10):\n",
    "    print(Tuple[i], end=\", \")   \n",
    "    \n",
    "## Negative Indexing \n",
    "print ('\\n')\n",
    "print(\"Iteration with Negative Indexing >>\")\n",
    "for i in range(-10, 0):\n",
    "    print(Tuple[i], end=\", \") "
   ]
  },
  {
   "cell_type": "code",
   "execution_count": 16,
   "id": "8d5be44c",
   "metadata": {},
   "outputs": [
    {
     "data": {
      "text/plain": [
       "10"
      ]
     },
     "execution_count": 16,
     "metadata": {},
     "output_type": "execute_result"
    }
   ],
   "source": [
    "# Q4, get the Length of this tuple\n",
    "Tuple = (10, 20, 30, 40, 50, 60, 70, 80, 90, 100)\n",
    "len(Tuple)"
   ]
  },
  {
   "cell_type": "code",
   "execution_count": 18,
   "id": "9760c6fd",
   "metadata": {},
   "outputs": [
    {
     "data": {
      "text/plain": [
       "(20, 30, 40, 50, 60)"
      ]
     },
     "execution_count": 18,
     "metadata": {},
     "output_type": "execute_result"
    }
   ],
   "source": [
    "# Q5, print elements from index 1 to index 5 \n",
    "Tuple = (10, 20, 30, 40, 50, 60, 70, 80, 90, 100)\n",
    "Tuple[1:6:1]"
   ]
  },
  {
   "cell_type": "code",
   "execution_count": 19,
   "id": "53995299",
   "metadata": {},
   "outputs": [
    {
     "data": {
      "text/plain": [
       "(10, 30, 50, 70, 90)"
      ]
     },
     "execution_count": 19,
     "metadata": {},
     "output_type": "execute_result"
    }
   ],
   "source": [
    "# Q6, print elements from start to end using step size 2\n",
    "Tuple = (10, 20, 30, 40, 50, 60, 70, 80, 90, 100)\n",
    "Tuple[0:9:2]\n"
   ]
  },
  {
   "cell_type": "code",
   "execution_count": null,
   "id": "c4b3e223",
   "metadata": {},
   "outputs": [],
   "source": []
  },
  {
   "cell_type": "markdown",
   "id": "8478ac78",
   "metadata": {},
   "source": [
    "## Set Exercise"
   ]
  },
  {
   "cell_type": "markdown",
   "id": "9854d269",
   "metadata": {},
   "source": [
    "### Question: Find all the fruits which are duplicates or occurs more than once"
   ]
  },
  {
   "cell_type": "code",
   "execution_count": 4,
   "id": "9445034a",
   "metadata": {},
   "outputs": [],
   "source": [
    "A = \"Apple, Banana, Cherry, Apple, Apple, Grape, Cherry, Pear, Mango, Kiwi, Kiwi\"\n"
   ]
  },
  {
   "cell_type": "code",
   "execution_count": 28,
   "id": "9b4f7685",
   "metadata": {},
   "outputs": [
    {
     "name": "stdout",
     "output_type": "stream",
     "text": [
      "Duplicates for the given tuple are :  ['Cherry', 'Apple', 'Kiwi']\n"
     ]
    }
   ],
   "source": [
    "Tuple = [\"Apple\", \"Banana\", \"Cherry\", \"Apple\", \"Apple\", \"Grape\", \"Cherry\", \"Pear\", \"Mango\", \"Kiwi\", \"Kiwi\"]\n",
    "\n",
    "Dup = list(set([ ele for ele in Tuple \n",
    "               if Tuple.count(ele) > 1 ]))\n",
    "\n",
    "print(\"Duplicates for the given tuple are : \", str(Dup))"
   ]
  },
  {
   "cell_type": "code",
   "execution_count": null,
   "id": "351f65f5",
   "metadata": {},
   "outputs": [],
   "source": []
  },
  {
   "cell_type": "markdown",
   "id": "4e4e1880-798e-4d47-afc9-6d6bc1c6c342",
   "metadata": {},
   "source": [
    "## List Exercise\n",
    "Lists help programmers manage larger amounts of data by allowing several (or even\n",
    "many) values to be stored in one variable. This makes it practical to solve larger\n",
    "problems that involve many data values. You are expected to:   \n",
    "\n",
    "+ Create a variable that holds a list of values\n",
    "+ Modify a list by appending, inserting, updating and deleting elements\n",
    "+ Search a list for a value\n",
    "+ Display some or all of the values in a list"
   ]
  },
  {
   "cell_type": "code",
   "execution_count": 50,
   "id": "e402c909",
   "metadata": {},
   "outputs": [
    {
     "name": "stdout",
     "output_type": "stream",
     "text": [
      "Radiohead\n",
      "Glass Animals\n",
      "Portishead\n",
      "Kendrick Lamar\n"
     ]
    }
   ],
   "source": [
    "# Creating and printing a list\n",
    "Music = ['Radiohead', 'Glass Animals', 'Portishead', 'Kendrick Lamar']\n",
    "\n",
    "for i in range(0,len(Music)):\n",
    "    print(Music[i])\n"
   ]
  },
  {
   "cell_type": "code",
   "execution_count": 43,
   "id": "d70a5850",
   "metadata": {},
   "outputs": [
    {
     "name": "stdout",
     "output_type": "stream",
     "text": [
      "Radiohead\n",
      "Glass Animals\n",
      "Portishead\n",
      "Kendrick Lamar\n",
      "Beach House\n"
     ]
    }
   ],
   "source": [
    "# Appending an element\n",
    "Music.append(\"Beach House\")\n",
    "for i in range(0,len(Music)):\n",
    "    print(Music[i])"
   ]
  },
  {
   "cell_type": "code",
   "execution_count": 44,
   "id": "56c98d25",
   "metadata": {},
   "outputs": [
    {
     "name": "stdout",
     "output_type": "stream",
     "text": [
      "Radiohead\n",
      "Glass Animals\n",
      "Portishead\n",
      "The Beatles\n",
      "Kendrick Lamar\n",
      "Beach House\n"
     ]
    }
   ],
   "source": [
    "# Inserting an element\n",
    "Music.insert(3, \"The Beatles\")\n",
    "for i in range(0,len(Music)):\n",
    "    print(Music[i])"
   ]
  },
  {
   "cell_type": "code",
   "execution_count": 45,
   "id": "3ffa42f0",
   "metadata": {},
   "outputs": [
    {
     "name": "stdout",
     "output_type": "stream",
     "text": [
      "Radiohead\n",
      "Glass Animals\n",
      "Portishead\n",
      "Blonde Redhead\n",
      "Kendrick Lamar\n",
      "Beach House\n"
     ]
    }
   ],
   "source": [
    "# Updating an element\n",
    "Music[3] = \"Blonde Redhead\"\n",
    "for i in range(0,len(Music)):\n",
    "    print(Music[i])"
   ]
  },
  {
   "cell_type": "code",
   "execution_count": 47,
   "id": "45460e76",
   "metadata": {},
   "outputs": [
    {
     "name": "stdout",
     "output_type": "stream",
     "text": [
      "Radiohead\n",
      "Glass Animals\n",
      "Portishead\n",
      "Blonde Redhead\n",
      "Beach House\n"
     ]
    }
   ],
   "source": [
    "# Deleting an element\n",
    "Music.remove(\"Kendrick Lamar\")\n",
    "for i in range(0,len(Music)):\n",
    "    print(Music[i])"
   ]
  },
  {
   "cell_type": "markdown",
   "id": "32e47f4a-476e-4f1d-b214-937926de7bef",
   "metadata": {},
   "source": [
    "## Dictionary Exercise\n",
    "\n",
    "Dictionary is another data structure that can be used in Python programs to manage large amount of data. While many problems can be solved with lists or conditional statements, in some occasions solutions are well suited using dictionaries. You are expected to: \n",
    "\n",
    "+ Create a new variable that holds a dictionary\n",
    "+ Add a key-value pair to a dictionary\n",
    "+ Update the value associated with a key in a dictionary\n",
    "+ Iterate over all of the keys and/or values in a dictionary"
   ]
  },
  {
   "cell_type": "code",
   "execution_count": 49,
   "id": "f101f34f",
   "metadata": {},
   "outputs": [
    {
     "data": {
      "text/plain": [
       "dict"
      ]
     },
     "execution_count": 49,
     "metadata": {},
     "output_type": "execute_result"
    }
   ],
   "source": [
    "#Creating a variable that hold a dictionary\n",
    "Music = {}\n",
    "type(Music)"
   ]
  },
  {
   "cell_type": "code",
   "execution_count": 53,
   "id": "8715efac",
   "metadata": {},
   "outputs": [
    {
     "data": {
      "text/plain": [
       "{'Radiohead': 1, 'Portishead': 2, 'Glass Animals': 3}"
      ]
     },
     "execution_count": 53,
     "metadata": {},
     "output_type": "execute_result"
    }
   ],
   "source": [
    "#Adding a key-value pair to the dictionary\n",
    "Music = { 'Radiohead' :1, \n",
    "                'Portishead' : 2,\n",
    "                'Glass Animals' : 3 }\n",
    "Music"
   ]
  },
  {
   "cell_type": "code",
   "execution_count": 54,
   "id": "5f92c603",
   "metadata": {},
   "outputs": [
    {
     "data": {
      "text/plain": [
       "{'Radiohead': 1, 'Portishead': 2, 'Glass Animals': 4}"
      ]
     },
     "execution_count": 54,
     "metadata": {},
     "output_type": "execute_result"
    }
   ],
   "source": [
    "#Updating the value associated with a key in a dictionary\n",
    "Music['Glass Animals'] = 4\n",
    "\n",
    "Music"
   ]
  },
  {
   "cell_type": "code",
   "execution_count": 55,
   "id": "714b706e",
   "metadata": {},
   "outputs": [
    {
     "name": "stdout",
     "output_type": "stream",
     "text": [
      "key : value\n",
      "Radiohead : 1\n",
      "Portishead : 2\n",
      "Glass Animals : 4\n"
     ]
    }
   ],
   "source": [
    "#Iterating over all of the keys and/or values in a dictionary\n",
    "print('key', ':', 'value')\n",
    "for key in Music:\n",
    "    print(key, ':', Music[key])\n"
   ]
  },
  {
   "cell_type": "markdown",
   "id": "d76c76fe-7f7b-4a0f-bcc2-c3361fa71e9f",
   "metadata": {},
   "source": [
    "## Exercise 1: Below and Above Average\n",
    "\n",
    "Write a program that read a number N from the user. Let the program generate N random values. Afterwards, your program should display the average of all of the random values generated. Then the program should display all of the above average values, followed by all of the average values (if any), followed by all of the below average values. An output of a running example:  \n",
    "<pre>\n",
    "Please input the total number of random values:25\n",
    "\n",
    "There are 13 numbers above the average of 51.24 :\n",
    "[62, 62, 63, 94, 95, 70, 65, 74, 83, 93, 97, 56, 56]\n",
    "\n",
    "There are 0 numbers equal to the average of 51.24 :\n",
    "[]\n",
    "\n",
    "There are 12 numbers below the average of 51.24 :\n",
    "[40, 1, 16, 12, 39, 32, 17, 50, 0, 5, 49, 50]\n",
    "</pre>\n",
    "\n",
    "> To generate random numbers use module random, then invoke one of the methods in the following :  \n",
    "  import random  \n",
    "  random.random()  &nbsp;  &nbsp; &nbsp;&nbsp;&nbsp;&nbsp; &nbsp;        # Random float:  0.0 <= x < 1.0  \n",
    "  random.randrange(10)    &nbsp;&nbsp; # Integer from 0 to 9 inclusive   \n",
    "  random.randint(1,10)    &nbsp;&nbsp;&nbsp;&nbsp; # Integer from 1 to 10 inclusive  \n",
    "  See methods available in Python random module at https://www.w3schools.com/python/module_random.asp"
   ]
  },
  {
   "cell_type": "code",
   "execution_count": 104,
   "id": "ec380baf",
   "metadata": {},
   "outputs": [
    {
     "name": "stdout",
     "output_type": "stream",
     "text": [
      "Enter a value: 8\n",
      "[22, 46, 97, 98, 43, 22, 99, 50]\n",
      "Average :  59.625\n",
      "\n",
      "\n",
      "There are 3 values above the average of 59.625\n",
      "[97, 98, 99]\n",
      "\n",
      "\n",
      "There are 0 values equal to the average of 59.625\n",
      "[]\n",
      "\n",
      "\n",
      "There are 5 values below the average of 59.625\n",
      "[22, 46, 43, 22, 50]\n"
     ]
    }
   ],
   "source": [
    "x = int(input(\"Enter a value: \"))\n",
    "\n",
    "import random\n",
    "RandList = []\n",
    "AbvList = []\n",
    "BlwList = []\n",
    "EqList = []\n",
    "\n",
    "for i in range(0,x):\n",
    "    y = random.randint(1,100)\n",
    "    RandList.append(y)\n",
    "\n",
    "print(RandList)\n",
    "\n",
    "Total = sum(RandList)\n",
    "Avg = Total/x\n",
    "\n",
    "print(\"Average : \", Avg)\n",
    "print('\\n')\n",
    "\n",
    "for i in range(len(RandList)):\n",
    "    if (RandList[i] > Avg):\n",
    "           AbvList.append(RandList[i])\n",
    "    elif (RandList[i] < Avg):\n",
    "            BlwList.append(RandList[i])\n",
    "    else:\n",
    "        EqList.append(RandList[i])\n",
    "\n",
    "print(\"There are {} values above the average of {}\" .format((len(AbvList)), Avg))\n",
    "print(AbvList)\n",
    "print ('\\n')\n",
    "print(\"There are {} values equal to the average of {}\" .format((len(EqList)), Avg))\n",
    "print(EqList)\n",
    "print ('\\n')\n",
    "print(\"There are {} values below the average of {}\" .format((len(BlwList)), Avg))\n",
    "print(BlwList)\n"
   ]
  },
  {
   "cell_type": "code",
   "execution_count": null,
   "id": "bca20ecd",
   "metadata": {},
   "outputs": [],
   "source": []
  },
  {
   "cell_type": "markdown",
   "id": "856f70a2-b4b6-4a81-9f95-f25589870b2c",
   "metadata": {},
   "source": [
    "## Exercise 2: Random Lottery Numbers\n",
    "\n",
    "In order to win the top prize in a particular lottery, one must match all 6 numbers\n",
    "on his or her ticket to the 6 numbers between 1 and 49 that are drawn by the lottery\n",
    "organizer. Write a program that generates a random selection of 6 numbers for a lottery ticket. Ensure that the 6 numbers selected do not contain any duplicates.\n",
    "Display the numbers in ascending order.\n",
    "\n",
    "> To generate random numbers use module random, then invoke one of the methods in the following :  \n",
    "  import random  \n",
    "  random.random()  &nbsp;  &nbsp; &nbsp;&nbsp;&nbsp;&nbsp; &nbsp;        # Random float:  0.0 <= x < 1.0  \n",
    "  random.randrange(10)    &nbsp;&nbsp; # Integer from 0 to 9 inclusive   \n",
    "  random.randint(1,10)    &nbsp;&nbsp;&nbsp;&nbsp; # Integer from 1 to 10 inclusive  \n",
    "  See methods available in Python random module at https://www.w3schools.com/python/module_random.asp\n",
    "  "
   ]
  },
  {
   "cell_type": "code",
   "execution_count": 112,
   "id": "6a51ac0f",
   "metadata": {},
   "outputs": [
    {
     "name": "stdout",
     "output_type": "stream",
     "text": [
      "Lottery Ticket Numbers :  35 9 39 42 23 43 \n"
     ]
    }
   ],
   "source": [
    "from random import randrange\n",
    "\n",
    "MinNum = 1\n",
    "MaxNum = 49\n",
    "NumCount = 6\n",
    "TicNum = []\n",
    "\n",
    "for i in range(NumCount):\n",
    "    Combo = randrange(MinNum, MaxNum +1)\n",
    "    while Combo in TicNum:\n",
    "        Combo = randrange(MinNum, MaxNum +1)\n",
    "    \n",
    "    TicNum.append(Combo)\n",
    "\n",
    "print(\"Lottery Ticket Numbers : \", end=\" \")\n",
    "for n in TicNum:\n",
    "    print (n, end=\" \")\n",
    "print()\n"
   ]
  },
  {
   "cell_type": "code",
   "execution_count": null,
   "id": "6a03dc62",
   "metadata": {},
   "outputs": [],
   "source": []
  },
  {
   "cell_type": "markdown",
   "id": "1635ddb1",
   "metadata": {},
   "source": [
    "<br>"
   ]
  },
  {
   "cell_type": "markdown",
   "id": "2cd96ecd",
   "metadata": {},
   "source": [
    "## <font color=RED>Questions below are optional and are for extra credit: If interested, feel free to go ahead and solve them and if the answers are correct you will get the extra credit of 20% of this assisgnment; otherwise, you won't lose any credit. </font>"
   ]
  },
  {
   "cell_type": "markdown",
   "id": "209b7347-6b5f-438d-b5fc-394dc5cdee34",
   "metadata": {},
   "source": [
    "### Function with List Exercise"
   ]
  },
  {
   "cell_type": "markdown",
   "id": "a95c3435-3fa7-43f7-9a12-a86da778abc9",
   "metadata": {},
   "source": [
    "\n",
    "\n",
    "## Optional Exercise 3 : Remove Outliers\n",
    "\n",
    "When analysing data collected as part of a science experiment it may be desirable to remove the most extreme values before performing other calculations.  \n",
    "\n",
    "Write a function that takes a list of values and a non-negative integer, N, as its parameters. The function should create a new copy of the list with both the n largest elements and the n smallest elements removed. Then it should return the new copy of the list as the sole function’s result as return. The order of the elements in the returned list does not have to match the order of the elements in the original list.\n",
    "\n",
    "To demonstrate the function you created in the program, call the function with a list of randomly generated numbers, that the function would remove the two largest and two smallest values from it, and return an updated new copy. Display the new copy of the list with the outliers removed, followed by the original list. Your program should generate an appropriate error message if the user enters less than 4 values in the case of N is 2. See the examples:  \n",
    "<pre>\n",
    "(Scenario 01)\n",
    "Please input the total number of random values:10\n",
    "New list: [37, 39, 39, 51, 52, 55]\n",
    "Old list: [39, 52, 98, 55, 51, 39, 37, 12, 36, 56]\n",
    "\n",
    "(Scenario 02)\n",
    "Please input the total number of random values:3\n",
    "Old list: [94, 26, 53]\n",
    "You do not have enought values (must be more than 3.\n",
    "\n",
    "(Scenario 03)\n",
    "Please input the total number of random values:4\n",
    "New list: []\n",
    "Old list: [80, 13, 74, 87]\n",
    "</pre>"
   ]
  },
  {
   "cell_type": "code",
   "execution_count": null,
   "id": "d68f29e0",
   "metadata": {},
   "outputs": [],
   "source": []
  },
  {
   "cell_type": "code",
   "execution_count": null,
   "id": "8cfa2c6f",
   "metadata": {},
   "outputs": [],
   "source": []
  },
  {
   "cell_type": "code",
   "execution_count": null,
   "id": "7303dc8c",
   "metadata": {},
   "outputs": [],
   "source": []
  },
  {
   "cell_type": "markdown",
   "id": "c2f6890f-190d-4db0-8ec5-ca8939d7781b",
   "metadata": {},
   "source": [
    "## Optional Exercise 4: Is a List already in Sorted Order?\n",
    "\n",
    "Write a function that determines whether or not a list of values is in sorted order\n",
    "(either ascending or descending). The function should return True if the list is\n",
    "already sorted. Otherwise it should return False. Write a main program that reads\n",
    "a list of numbers from the user and then uses your function to report whether or not\n",
    "the list is sorted.\n",
    "\n",
    ">One solution idea to check whether a list of values are in a correct order is to check all pairs of neighboring values on the list to see if all pairs are in correct order. As soon as there is one pair on the list has the incorrect order, then it's time to conclude that the whole list is not in correct order. Otherwise, all numbers on the list are in their correct order. Also make sure you consider these questions when completing this exercise: Is an empty list in sorted order? What about a list contains only one element?   \n",
    "\n",
    "Some examples:   \n",
    "<pre>\n",
    "(Scenario I)\n",
    "Input the next number:1\n",
    "Input the next number:2\n",
    "Input the next number:3\n",
    "Input the next number:4\n",
    "Input the next number:5\n",
    "[1, 2, 3, 4, 5]\n",
    "This list is sorted.\n",
    "\n",
    "(Scenario II)\n",
    "Input the next number:1\n",
    "Input the next number:2\n",
    "Input the next number:3\n",
    "Input the next number:5\n",
    "Input the next number:4\n",
    "[1, 2, 3, 5, 4]\n",
    "This list is NOT sorted.\n",
    "\n",
    "(Scenario III)\n",
    "Input the next number:5\n",
    "Input the next number:4\n",
    "Input the next number:3\n",
    "Input the next number:2\n",
    "Input the next number:1\n",
    "[5, 4, 3, 2, 1]\n",
    "This list is sorted.\n",
    "\n",
    "(Scenario IV)\n",
    "[]\n",
    "This list is sorted.\n",
    "\n",
    "(Scenario V)\n",
    "Input the next number:9\n",
    "[9]\n",
    "This list is sorted.\n",
    "</pre>"
   ]
  },
  {
   "cell_type": "code",
   "execution_count": null,
   "id": "4e0e8928",
   "metadata": {},
   "outputs": [],
   "source": []
  },
  {
   "cell_type": "code",
   "execution_count": null,
   "id": "e1a1c663",
   "metadata": {},
   "outputs": [],
   "source": []
  },
  {
   "cell_type": "code",
   "execution_count": null,
   "id": "245653da",
   "metadata": {},
   "outputs": [],
   "source": []
  },
  {
   "cell_type": "markdown",
   "id": "0cf32421-bc32-4a4e-8379-2304ffcc747b",
   "metadata": {},
   "source": [
    "## Optional Exercise 5: Reverse Lookup\n",
    "\n",
    "Write a function named reverseLookup that finds all of the keys in a dictionary\n",
    "that map to a specific value. The function will take the dictionary and the value to\n",
    "search for as its only parameters. It will return a (possibly empty) list of keys from\n",
    "the dictionary that map to the provided value.   \n",
    "\n",
    "Include additional statements that demonstrates the reverseLookup function as part\n",
    "of your solution to this exercise.    \n",
    "\n",
    "Your program can create a dictionary or use the dictionary included and then\n",
    "show that the reverseLookup function works correctly when it returns multiple\n",
    "keys, a single key, and no keys.   \n",
    "\n",
    "<pre>data = { 'A': 3,\n",
    "         'B': 7,\n",
    "         'C': 8,\n",
    "         'D': 8,\n",
    "         'E': 7,\n",
    "         'F': 3,\n",
    "         'G': 2,\n",
    "         'H': 3,\n",
    "         'I': 8,\n",
    "         'J': 3  \n",
    "}\n",
    "</pre>\n",
    "The output from the given dictionary:   \n",
    "<pre>\n",
    "Keys for value 2 ['G']\n",
    "Keys for value 3 ['A', 'F', 'H', 'J']\n",
    "Keys for value 5 []\n",
    "Keys for value 7 ['B', 'E']\n",
    "Keys for value 8 ['C', 'D', 'I']\n",
    "</pre>"
   ]
  },
  {
   "cell_type": "code",
   "execution_count": 1,
   "id": "03e4e724-ed5e-4bd0-a582-d6572a0c5493",
   "metadata": {},
   "outputs": [],
   "source": [
    "# Reverse Loopkup\n",
    "\n",
    "data = { 'A': 3,\n",
    "         'B': 7,\n",
    "         'C': 8,\n",
    "         'D': 8,\n",
    "         'E': 7,\n",
    "         'F': 3,\n",
    "         'G': 2,\n",
    "         'H': 3,\n",
    "         'I': 8,\n",
    "         'J': 3  \n",
    "}"
   ]
  },
  {
   "cell_type": "markdown",
   "id": "e0a762d0-7212-4ea7-8edf-7d658f78e175",
   "metadata": {},
   "source": [
    "\n",
    "\n",
    "## Optional Exercise 6 : Two Dice Simulation\n",
    "\n",
    "In this exercise you will simulate 1,000 rolls of two dice. Begin by writing a func-\n",
    "tion that simulates rolling a pair of six-sided dice. Your function will not take any\n",
    "parameters. It will return the total that was rolled on two dice as its only result.\n",
    "Write the main program that uses your function to simulate rolling two six-sided\n",
    "dice 1,000 times.   \n",
    "\n",
    "As your program runs, it should count the number of times that each\n",
    "total occurs. Then it should display a table that summarizes this data. Express the\n",
    "frequency for each total as a percentage of the total number of rolls. Your program\n",
    "should also display the percentage expected by probability theory for each total.\n",
    "Sample output is shown below.  \n",
    "\n",
    "<img src=\"http://mathqs.mcdaniel.edu/ANA522/mod01/img/DiceSimulation.png\" width=\"300\" alt=\"If the image does not show use: http://mathqs.mcdaniel.edu/ANA522/mod01/img/DiceSimulation.png\">"
   ]
  },
  {
   "cell_type": "code",
   "execution_count": null,
   "id": "2a9d23dd",
   "metadata": {},
   "outputs": [],
   "source": []
  },
  {
   "cell_type": "code",
   "execution_count": null,
   "id": "1ab6a607",
   "metadata": {},
   "outputs": [],
   "source": []
  },
  {
   "cell_type": "code",
   "execution_count": null,
   "id": "a394d307",
   "metadata": {},
   "outputs": [],
   "source": []
  },
  {
   "cell_type": "markdown",
   "id": "6ff70556-4008-49d1-b2da-daff522749bf",
   "metadata": {},
   "source": [
    "## Optional Exercise 7 : Write Out Numbers in English\n",
    "\n",
    "While the popularity of cheques as a payment method has diminished in recent years,\n",
    "some companies still issue them to pay employees or vendors. The amount being\n",
    "paid normally appears on a cheque twice, with one occurrence written using digits,\n",
    "and the other occurrence written using English words. Repeating the amount in two\n",
    "different forms makes it much more difficult for an unscrupulous employee or vendor\n",
    "to modify the amount on the cheque before depositing it.   \n",
    "\n",
    "In this exercise, your task is to create a function that takes an integer between 0 and\n",
    "999 as its only parameter, and returns a string containing the English words for that\n",
    "number. For example, if the parameter to the function is 142 then your function should\n",
    "return “one hundred forty two”. Use one or more dictionaries to implement\n",
    "your solution rather than large if/elif/else constructs. Include a main program that\n",
    "reads an integer from the user and displays its value in English words. See example outputs:  \n",
    "\n",
    "<pre>\n",
    "123 :  One Hundred Twenty Three\n",
    "812 :  Eight Hundreds Twelve\n",
    "802 :  Eight Hundreds and Two\n",
    " 14 :   Fourteen\n",
    " 67 :   Sixty Seven\n",
    "  9 :   Nine\n",
    "</pre>\n"
   ]
  },
  {
   "cell_type": "code",
   "execution_count": null,
   "id": "2377d157",
   "metadata": {},
   "outputs": [],
   "source": []
  }
 ],
 "metadata": {
  "kernelspec": {
   "display_name": "Python 3 (ipykernel)",
   "language": "python",
   "name": "python3"
  },
  "language_info": {
   "codemirror_mode": {
    "name": "ipython",
    "version": 3
   },
   "file_extension": ".py",
   "mimetype": "text/x-python",
   "name": "python",
   "nbconvert_exporter": "python",
   "pygments_lexer": "ipython3",
   "version": "3.9.12"
  }
 },
 "nbformat": 4,
 "nbformat_minor": 5
}
